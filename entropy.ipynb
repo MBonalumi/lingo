{
 "cells": [
  {
   "cell_type": "code",
   "execution_count": 1,
   "metadata": {},
   "outputs": [],
   "source": [
    "import pandas as pd\n",
    "import numpy as np"
   ]
  },
  {
   "cell_type": "code",
   "execution_count": 8,
   "metadata": {},
   "outputs": [
    {
     "data": {
      "text/html": [
       "<div>\n",
       "<style scoped>\n",
       "    .dataframe tbody tr th:only-of-type {\n",
       "        vertical-align: middle;\n",
       "    }\n",
       "\n",
       "    .dataframe tbody tr th {\n",
       "        vertical-align: top;\n",
       "    }\n",
       "\n",
       "    .dataframe thead th {\n",
       "        text-align: right;\n",
       "    }\n",
       "</style>\n",
       "<table border=\"1\" class=\"dataframe\">\n",
       "  <thead>\n",
       "    <tr style=\"text-align: right;\">\n",
       "      <th></th>\n",
       "      <th>word</th>\n",
       "    </tr>\n",
       "  </thead>\n",
       "  <tbody>\n",
       "    <tr>\n",
       "      <th>0</th>\n",
       "      <td>ABBAIA</td>\n",
       "    </tr>\n",
       "    <tr>\n",
       "      <th>1</th>\n",
       "      <td>ABBAIO</td>\n",
       "    </tr>\n",
       "    <tr>\n",
       "      <th>2</th>\n",
       "      <td>ABBINA</td>\n",
       "    </tr>\n",
       "    <tr>\n",
       "      <th>3</th>\n",
       "      <td>ABBINI</td>\n",
       "    </tr>\n",
       "    <tr>\n",
       "      <th>4</th>\n",
       "      <td>ABBINO</td>\n",
       "    </tr>\n",
       "  </tbody>\n",
       "</table>\n",
       "</div>"
      ],
      "text/plain": [
       "     word\n",
       "0  ABBAIA\n",
       "1  ABBAIO\n",
       "2  ABBINA\n",
       "3  ABBINI\n",
       "4  ABBINO"
      ]
     },
     "execution_count": 8,
     "metadata": {},
     "output_type": "execute_result"
    }
   ],
   "source": [
    "words6 = pd.read_csv('vocabolari/words6.csv', header=None, names=['word'])\n",
    "words6.head()"
   ]
  },
  {
   "cell_type": "code",
   "execution_count": 64,
   "metadata": {},
   "outputs": [],
   "source": [
    "score_to_str = lambda score: ''.join([str(d) for d in score])\n",
    "str_to_score = lambda string: [int(d) for d in string]\n",
    "\n",
    "def score(guess, true_word, return_list=False):\n",
    "    assert len(guess) == len(true_word), 'Guess and true word must have the same length'\n",
    "\n",
    "    score = [0]*len(true_word)\n",
    "    todo = list(range(len(guess)))\n",
    "\n",
    "    for i in range(len(guess)):\n",
    "        if guess[i] == true_word[i]:\n",
    "            score[i] = 2\n",
    "            todo.remove(i)\n",
    "\n",
    "    true_word_remaining = [true_word[i] for i in todo] if todo else []\n",
    "\n",
    "    for i in todo:\n",
    "        if guess[i] in true_word_remaining:\n",
    "            score[i] = 1\n",
    "            true_word_remaining.remove(guess[i])\n",
    "\n",
    "    if return_list:\n",
    "        return score\n",
    "    \n",
    "    return score_to_str(score)"
   ]
  },
  {
   "cell_type": "code",
   "execution_count": 78,
   "metadata": {},
   "outputs": [
    {
     "name": "stdout",
     "output_type": "stream",
     "text": [
      "ROTOLI\n"
     ]
    },
    {
     "data": {
      "text/plain": [
       "'2222'"
      ]
     },
     "execution_count": 78,
     "metadata": {},
     "output_type": "execute_result"
    }
   ],
   "source": [
    "w10 = words6.sample(10)\n",
    "w10\n",
    "\n",
    "print(w10.iloc[0].word)\n",
    "\n",
    "scores_ = [[''] * len(w10)] * len(w10)\n",
    "\n",
    "for i in range(len(w10)):\n",
    "    for j in range(len(w10)):\n",
    "        scores_[i][j] = score(w10.iloc[i].word, w10.iloc[j].word)\n",
    "\n",
    "# scores_\n",
    "\n",
    "scores_[0][0] = score('ciao','ciao')\n",
    "scores_[0][0]"
   ]
  },
  {
   "cell_type": "code",
   "execution_count": null,
   "metadata": {},
   "outputs": [],
   "source": [
    "scores = [[''] * len(words6)] * len(words6)\n",
    "\n",
    "from tqdm.notebook import tqdm\n",
    "\n",
    "for i in tqdm(range(len(words6))):\n",
    "    for j in range(i+1, len(words6)):\n",
    "        scores[i,j] = score(words6.word[i], words6.word[j])\n",
    "        scores[j,i] = score(words6.word[j], words6.word[i])"
   ]
  },
  {
   "cell_type": "code",
   "execution_count": null,
   "metadata": {},
   "outputs": [],
   "source": []
  },
  {
   "cell_type": "code",
   "execution_count": null,
   "metadata": {},
   "outputs": [],
   "source": [
    "entropy = lambda p: -sum([p_i*np.log2(p_i) for p_i in p])"
   ]
  }
 ],
 "metadata": {
  "kernelspec": {
   "display_name": "Python 3",
   "language": "python",
   "name": "python3"
  },
  "language_info": {
   "codemirror_mode": {
    "name": "ipython",
    "version": 3
   },
   "file_extension": ".py",
   "mimetype": "text/x-python",
   "name": "python",
   "nbconvert_exporter": "python",
   "pygments_lexer": "ipython3",
   "version": "3.10.11"
  }
 },
 "nbformat": 4,
 "nbformat_minor": 2
}
