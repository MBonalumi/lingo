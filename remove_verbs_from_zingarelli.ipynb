{
 "cells": [
  {
   "cell_type": "code",
   "execution_count": 136,
   "metadata": {},
   "outputs": [],
   "source": [
    "import pandas as pd"
   ]
  },
  {
   "cell_type": "code",
   "execution_count": 191,
   "metadata": {},
   "outputs": [],
   "source": [
    "vocabolario = pd.read_csv('vocabolario_280k.txt', sep='\\n', header=None, names=['words'])\n",
    "verbi = pd.read_csv('coniugazione_verbi.txt', sep='\\n', header=None, names=['words'])\n",
    "verbi['words'] = verbi['words'].apply(lambda x: x.upper())"
   ]
  },
  {
   "cell_type": "code",
   "execution_count": 192,
   "metadata": {},
   "outputs": [
    {
     "data": {
      "text/html": [
       "<div>\n",
       "<style scoped>\n",
       "    .dataframe tbody tr th:only-of-type {\n",
       "        vertical-align: middle;\n",
       "    }\n",
       "\n",
       "    .dataframe tbody tr th {\n",
       "        vertical-align: top;\n",
       "    }\n",
       "\n",
       "    .dataframe thead th {\n",
       "        text-align: right;\n",
       "    }\n",
       "</style>\n",
       "<table border=\"1\" class=\"dataframe\">\n",
       "  <thead>\n",
       "    <tr style=\"text-align: right;\">\n",
       "      <th></th>\n",
       "      <th>words</th>\n",
       "    </tr>\n",
       "  </thead>\n",
       "  <tbody>\n",
       "    <tr>\n",
       "      <th>count</th>\n",
       "      <td>279894</td>\n",
       "    </tr>\n",
       "    <tr>\n",
       "      <th>unique</th>\n",
       "      <td>279894</td>\n",
       "    </tr>\n",
       "    <tr>\n",
       "      <th>top</th>\n",
       "      <td>a</td>\n",
       "    </tr>\n",
       "    <tr>\n",
       "      <th>freq</th>\n",
       "      <td>1</td>\n",
       "    </tr>\n",
       "  </tbody>\n",
       "</table>\n",
       "</div>"
      ],
      "text/plain": [
       "         words\n",
       "count   279894\n",
       "unique  279894\n",
       "top          a\n",
       "freq         1"
      ]
     },
     "execution_count": 192,
     "metadata": {},
     "output_type": "execute_result"
    }
   ],
   "source": [
    "vocabolario.describe()"
   ]
  },
  {
   "cell_type": "code",
   "execution_count": 193,
   "metadata": {},
   "outputs": [
    {
     "data": {
      "text/html": [
       "<div>\n",
       "<style scoped>\n",
       "    .dataframe tbody tr th:only-of-type {\n",
       "        vertical-align: middle;\n",
       "    }\n",
       "\n",
       "    .dataframe tbody tr th {\n",
       "        vertical-align: top;\n",
       "    }\n",
       "\n",
       "    .dataframe thead th {\n",
       "        text-align: right;\n",
       "    }\n",
       "</style>\n",
       "<table border=\"1\" class=\"dataframe\">\n",
       "  <thead>\n",
       "    <tr style=\"text-align: right;\">\n",
       "      <th></th>\n",
       "      <th>words</th>\n",
       "    </tr>\n",
       "  </thead>\n",
       "  <tbody>\n",
       "    <tr>\n",
       "      <th>count</th>\n",
       "      <td>334953</td>\n",
       "    </tr>\n",
       "    <tr>\n",
       "      <th>unique</th>\n",
       "      <td>334953</td>\n",
       "    </tr>\n",
       "    <tr>\n",
       "      <th>top</th>\n",
       "      <td>ABALIENA</td>\n",
       "    </tr>\n",
       "    <tr>\n",
       "      <th>freq</th>\n",
       "      <td>1</td>\n",
       "    </tr>\n",
       "  </tbody>\n",
       "</table>\n",
       "</div>"
      ],
      "text/plain": [
       "           words\n",
       "count     334953\n",
       "unique    334953\n",
       "top     ABALIENA\n",
       "freq           1"
      ]
     },
     "execution_count": 193,
     "metadata": {},
     "output_type": "execute_result"
    }
   ],
   "source": [
    "verbi.describe()"
   ]
  },
  {
   "cell_type": "code",
   "execution_count": 194,
   "metadata": {},
   "outputs": [
    {
     "name": "stdout",
     "output_type": "stream",
     "text": [
      "d3            ->   words: 23159     accented words: 23159\n",
      "del_accents   ->   words: 23159     accented words: 0\n"
     ]
    }
   ],
   "source": [
    "import re\n",
    "pattern = re.compile(\"[ÀÈÉÌÒ]\")\n",
    "d3 = verbi[verbi['words'].str.contains(pattern)]\n",
    "d3.describe()\n",
    "\n",
    "del_accents = d3.loc[:, ['words']]\n",
    "\n",
    "# for each word in d3, replace the accented letter with the non-accented one\n",
    "del_accents['words'] = d3['words'].apply(lambda x: x.replace('À', 'A').replace('È', 'E').replace('É', 'E').replace('Ì', 'I').replace('Ò', 'O'))\n",
    "\n",
    "print(\"d3            ->   words:\", d3['words'].count(), \"    accented words:\",  d3['words'].str.contains(re.compile(\"[ÀÁÈÉÌÍÒÓÙÚ]\")).sum())\n",
    "print(\"del_accents   ->   words:\", del_accents['words'].count(), \"    accented words:\",  del_accents['words'].str.contains(re.compile(\"[ÀÁÈÉÌÍÒÓÙÚ]\")).sum())"
   ]
  },
  {
   "cell_type": "code",
   "execution_count": 195,
   "metadata": {},
   "outputs": [
    {
     "data": {
      "text/html": [
       "<div>\n",
       "<style scoped>\n",
       "    .dataframe tbody tr th:only-of-type {\n",
       "        vertical-align: middle;\n",
       "    }\n",
       "\n",
       "    .dataframe tbody tr th {\n",
       "        vertical-align: top;\n",
       "    }\n",
       "\n",
       "    .dataframe thead th {\n",
       "        text-align: right;\n",
       "    }\n",
       "</style>\n",
       "<table border=\"1\" class=\"dataframe\">\n",
       "  <thead>\n",
       "    <tr style=\"text-align: right;\">\n",
       "      <th></th>\n",
       "      <th>words</th>\n",
       "    </tr>\n",
       "  </thead>\n",
       "  <tbody>\n",
       "    <tr>\n",
       "      <th>count</th>\n",
       "      <td>358112</td>\n",
       "    </tr>\n",
       "    <tr>\n",
       "      <th>unique</th>\n",
       "      <td>351514</td>\n",
       "    </tr>\n",
       "    <tr>\n",
       "      <th>top</th>\n",
       "      <td>BALLO</td>\n",
       "    </tr>\n",
       "    <tr>\n",
       "      <th>freq</th>\n",
       "      <td>2</td>\n",
       "    </tr>\n",
       "  </tbody>\n",
       "</table>\n",
       "</div>"
      ],
      "text/plain": [
       "         words\n",
       "count   358112\n",
       "unique  351514\n",
       "top      BALLO\n",
       "freq         2"
      ]
     },
     "execution_count": 195,
     "metadata": {},
     "output_type": "execute_result"
    }
   ],
   "source": [
    "# then add all new words to verbi\n",
    "verbi = verbi.append(del_accents)\n",
    "verbi.describe()"
   ]
  },
  {
   "cell_type": "code",
   "execution_count": 196,
   "metadata": {},
   "outputs": [
    {
     "data": {
      "text/html": [
       "<div>\n",
       "<style scoped>\n",
       "    .dataframe tbody tr th:only-of-type {\n",
       "        vertical-align: middle;\n",
       "    }\n",
       "\n",
       "    .dataframe tbody tr th {\n",
       "        vertical-align: top;\n",
       "    }\n",
       "\n",
       "    .dataframe thead th {\n",
       "        text-align: right;\n",
       "    }\n",
       "</style>\n",
       "<table border=\"1\" class=\"dataframe\">\n",
       "  <thead>\n",
       "    <tr style=\"text-align: right;\">\n",
       "      <th></th>\n",
       "      <th>words</th>\n",
       "    </tr>\n",
       "  </thead>\n",
       "  <tbody>\n",
       "    <tr>\n",
       "      <th>count</th>\n",
       "      <td>279894</td>\n",
       "    </tr>\n",
       "    <tr>\n",
       "      <th>unique</th>\n",
       "      <td>279894</td>\n",
       "    </tr>\n",
       "    <tr>\n",
       "      <th>top</th>\n",
       "      <td>a</td>\n",
       "    </tr>\n",
       "    <tr>\n",
       "      <th>freq</th>\n",
       "      <td>1</td>\n",
       "    </tr>\n",
       "  </tbody>\n",
       "</table>\n",
       "</div>"
      ],
      "text/plain": [
       "         words\n",
       "count   279894\n",
       "unique  279894\n",
       "top          a\n",
       "freq         1"
      ]
     },
     "execution_count": 196,
     "metadata": {},
     "output_type": "execute_result"
    }
   ],
   "source": [
    "vocabolario_noverbi = vocabolario[~vocabolario['words'].isin(verbi['words'])]\n",
    "vocabolario_noverbi.describe()"
   ]
  },
  {
   "cell_type": "code",
   "execution_count": 200,
   "metadata": {},
   "outputs": [
    {
     "data": {
      "text/html": [
       "<div>\n",
       "<style scoped>\n",
       "    .dataframe tbody tr th:only-of-type {\n",
       "        vertical-align: middle;\n",
       "    }\n",
       "\n",
       "    .dataframe tbody tr th {\n",
       "        vertical-align: top;\n",
       "    }\n",
       "\n",
       "    .dataframe thead th {\n",
       "        text-align: right;\n",
       "    }\n",
       "</style>\n",
       "<table border=\"1\" class=\"dataframe\">\n",
       "  <thead>\n",
       "    <tr style=\"text-align: right;\">\n",
       "      <th></th>\n",
       "      <th>words</th>\n",
       "    </tr>\n",
       "  </thead>\n",
       "  <tbody>\n",
       "    <tr>\n",
       "      <th>25144</th>\n",
       "      <td>appesantireste</td>\n",
       "    </tr>\n",
       "    <tr>\n",
       "      <th>241805</th>\n",
       "      <td>spicciolato</td>\n",
       "    </tr>\n",
       "    <tr>\n",
       "      <th>86295</th>\n",
       "      <td>fiatato</td>\n",
       "    </tr>\n",
       "    <tr>\n",
       "      <th>124157</th>\n",
       "      <td>laburiste</td>\n",
       "    </tr>\n",
       "    <tr>\n",
       "      <th>178287</th>\n",
       "      <td>pulitori</td>\n",
       "    </tr>\n",
       "    <tr>\n",
       "      <th>147004</th>\n",
       "      <td>neutralizzabile</td>\n",
       "    </tr>\n",
       "    <tr>\n",
       "      <th>93111</th>\n",
       "      <td>generavi</td>\n",
       "    </tr>\n",
       "    <tr>\n",
       "      <th>257597</th>\n",
       "      <td>tecnicizzasse</td>\n",
       "    </tr>\n",
       "    <tr>\n",
       "      <th>139018</th>\n",
       "      <td>mieta</td>\n",
       "    </tr>\n",
       "    <tr>\n",
       "      <th>168971</th>\n",
       "      <td>poponi</td>\n",
       "    </tr>\n",
       "    <tr>\n",
       "      <th>49693</th>\n",
       "      <td>bozzettistica</td>\n",
       "    </tr>\n",
       "    <tr>\n",
       "      <th>168136</th>\n",
       "      <td>polisti</td>\n",
       "    </tr>\n",
       "    <tr>\n",
       "      <th>249680</th>\n",
       "      <td>strettoie</td>\n",
       "    </tr>\n",
       "    <tr>\n",
       "      <th>51747</th>\n",
       "      <td>bubola</td>\n",
       "    </tr>\n",
       "    <tr>\n",
       "      <th>228599</th>\n",
       "      <td>shopper</td>\n",
       "    </tr>\n",
       "    <tr>\n",
       "      <th>201196</th>\n",
       "      <td>ripulivi</td>\n",
       "    </tr>\n",
       "    <tr>\n",
       "      <th>233595</th>\n",
       "      <td>soffrirono</td>\n",
       "    </tr>\n",
       "    <tr>\n",
       "      <th>89445</th>\n",
       "      <td>fotomodelli</td>\n",
       "    </tr>\n",
       "    <tr>\n",
       "      <th>45645</th>\n",
       "      <td>bicchierate</td>\n",
       "    </tr>\n",
       "    <tr>\n",
       "      <th>73296</th>\n",
       "      <td>dinoccolato</td>\n",
       "    </tr>\n",
       "  </tbody>\n",
       "</table>\n",
       "</div>"
      ],
      "text/plain": [
       "                  words\n",
       "25144    appesantireste\n",
       "241805      spicciolato\n",
       "86295           fiatato\n",
       "124157        laburiste\n",
       "178287         pulitori\n",
       "147004  neutralizzabile\n",
       "93111          generavi\n",
       "257597    tecnicizzasse\n",
       "139018            mieta\n",
       "168971           poponi\n",
       "49693     bozzettistica\n",
       "168136          polisti\n",
       "249680        strettoie\n",
       "51747            bubola\n",
       "228599          shopper\n",
       "201196         ripulivi\n",
       "233595       soffrirono\n",
       "89445       fotomodelli\n",
       "45645       bicchierate\n",
       "73296       dinoccolato"
      ]
     },
     "execution_count": 200,
     "metadata": {},
     "output_type": "execute_result"
    }
   ],
   "source": [
    "vocabolario_noverbi.sample(20)"
   ]
  },
  {
   "cell_type": "code",
   "execution_count": 198,
   "metadata": {},
   "outputs": [
    {
     "data": {
      "text/html": [
       "<div>\n",
       "<style scoped>\n",
       "    .dataframe tbody tr th:only-of-type {\n",
       "        vertical-align: middle;\n",
       "    }\n",
       "\n",
       "    .dataframe tbody tr th {\n",
       "        vertical-align: top;\n",
       "    }\n",
       "\n",
       "    .dataframe thead th {\n",
       "        text-align: right;\n",
       "    }\n",
       "</style>\n",
       "<table border=\"1\" class=\"dataframe\">\n",
       "  <thead>\n",
       "    <tr style=\"text-align: right;\">\n",
       "      <th></th>\n",
       "      <th>words</th>\n",
       "    </tr>\n",
       "  </thead>\n",
       "  <tbody>\n",
       "  </tbody>\n",
       "</table>\n",
       "</div>"
      ],
      "text/plain": [
       "Empty DataFrame\n",
       "Columns: [words]\n",
       "Index: []"
      ]
     },
     "execution_count": 198,
     "metadata": {},
     "output_type": "execute_result"
    }
   ],
   "source": [
    "verbi[verbi['words'].str.contains(re.compile(\"TORNEA\")).values]"
   ]
  }
 ],
 "metadata": {
  "kernelspec": {
   "display_name": "Python 3",
   "language": "python",
   "name": "python3"
  },
  "language_info": {
   "codemirror_mode": {
    "name": "ipython",
    "version": 3
   },
   "file_extension": ".py",
   "mimetype": "text/x-python",
   "name": "python",
   "nbconvert_exporter": "python",
   "pygments_lexer": "ipython3",
   "version": "3.10.11"
  }
 },
 "nbformat": 4,
 "nbformat_minor": 2
}
